{
  "nbformat": 4,
  "nbformat_minor": 0,
  "metadata": {
    "kernelspec": {
      "display_name": "Python 3",
      "language": "python",
      "name": "python3"
    },
    "language_info": {
      "codemirror_mode": {
        "name": "ipython",
        "version": 3
      },
      "file_extension": ".py",
      "mimetype": "text/x-python",
      "name": "python",
      "nbconvert_exporter": "python",
      "pygments_lexer": "ipython3",
      "version": "3.8.5"
    },
    "colab": {
      "name": "張宇彤- Week11 -作業題目 (1).ipynb",
      "provenance": [],
      "include_colab_link": true
    }
  },
  "cells": [
    {
      "cell_type": "markdown",
      "metadata": {
        "id": "view-in-github",
        "colab_type": "text"
      },
      "source": [
        "<a href=\"https://colab.research.google.com/github/A109010127/Computational-Thinking-and-program-design/blob/main/%E5%BC%B5%E5%AE%87%E5%BD%A4_Week11_%E4%BD%9C%E6%A5%AD%E9%A1%8C%E7%9B%AE_(1).ipynb\" target=\"_parent\"><img src=\"https://colab.research.google.com/assets/colab-badge.svg\" alt=\"Open In Colab\"/></a>"
      ]
    },
    {
      "cell_type": "markdown",
      "metadata": {
        "id": "M6Z7eikdcBT-"
      },
      "source": [
        "**隨堂練習 1：請輸入身分證字號，並判斷尾數是否為奇數?** "
      ]
    },
    {
      "cell_type": "code",
      "metadata": {
        "id": "Zd9FfMRkcBUO"
      },
      "source": [
        ""
      ],
      "execution_count": null,
      "outputs": []
    },
    {
      "cell_type": "markdown",
      "metadata": {
        "id": "2Y5DpmCacBUQ"
      },
      "source": [
        "**回家作業**\n",
        "\n",
        "組長: \n",
        "    蕭咸蓁\n",
        "組員:\n",
        "    陳亭蓁 張宇彤\n",
        "期末報告題目: \n",
        "點餐機器人點餐機器人\n",
        "\n",
        "百字腳本初稿:\n",
        "走進一間西餐廳，發現裡面的一切都是全自動化，點餐的部分有一個專門的機器人來幫忙進行點餐，一開始機器人會先詢問顧客的姓名及是否有對什麼食物過敏，接著詢問顧客前菜、湯品、主餐、飲料及甜點分別要什麼，並且中間會穿插機器人的推薦，最後並祝顧客用餐愉快，有個美好的一天。\n",
        "\n",
        "\n",
        "(Note: **用電腦解決問題，你要解決的問題就是你的題目；解決問題的方法是什麼，請設計用對話方式讓我們知道答案。**\n",
        "\n",
        "在日常生活中，所有與客服有關的事情，都可以自動化改用對話機器人處理。例如:你去銀行櫃台詢問存錢事宜，你去系辦詢問選課事宜，你去餐廳詢問點餐事宜等等。這些例子都是針對一個問題，透過你和客服互動對話後解決。將與這些真人的客服對話自動化後，就變成對話機器人。對話機器人是目前全世界最熱門的商業互動模式，也是未來世界的趨勢。)\n"
      ]
    }
  ]
}