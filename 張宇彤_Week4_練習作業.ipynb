{
  "nbformat": 4,
  "nbformat_minor": 0,
  "metadata": {
    "colab": {
      "name": "張宇彤-Week4-練習作業.ipynb",
      "provenance": [],
      "authorship_tag": "ABX9TyPoVZdXINTOOUiCG1qICH7b",
      "include_colab_link": true
    },
    "kernelspec": {
      "name": "python3",
      "display_name": "Python 3"
    }
  },
  "cells": [
    {
      "cell_type": "markdown",
      "metadata": {
        "id": "view-in-github",
        "colab_type": "text"
      },
      "source": [
        "<a href=\"https://colab.research.google.com/github/A109010127/Computational-Thinking-and-program-design/blob/main/%E5%BC%B5%E5%AE%87%E5%BD%A4_Week4_%E7%B7%B4%E7%BF%92%E4%BD%9C%E6%A5%AD.ipynb\" target=\"_parent\"><img src=\"https://colab.research.google.com/assets/colab-badge.svg\" alt=\"Open In Colab\"/></a>"
      ]
    },
    {
      "cell_type": "markdown",
      "metadata": {
        "id": "zGPyx2-QWu1J"
      },
      "source": [
        "#隨堂練習"
      ]
    },
    {
      "cell_type": "markdown",
      "metadata": {
        "id": "Hblp2fE5XGB3"
      },
      "source": [
        "#課後練習\r\n",
        "\r\n"
      ]
    },
    {
      "cell_type": "markdown",
      "metadata": {
        "id": "h-pTA95NYlE0"
      },
      "source": [
        "**課後練習則為從一則新聞報導，提出你對新聞系（OO系）學生為什麼要學「運算思維與程式設計」的見解。（告訴我新聞連結，以及你的觀點即可。）**\r\n"
      ]
    },
    {
      "cell_type": "markdown",
      "metadata": {
        "id": "ldEXSQdPaFQn"
      },
      "source": [
        "https://www.cw.com.tw/article/5080736\r\n",
        "\r\n",
        "在現今的社會裡頭，大家應該也有查覺到我們的生活裡，電腦軟體已經無所不在了，在教育部的積極推廣之下，程式設計已經是大學生必要的課程之一，對於我們新聞系的學生而言，我覺得學程式設計主要的目的是可以讓我們創新，不必侷限在於一些平面的報導，讓整體的內容可以變得更有變化，可以利用程式設計來讓新聞報導推廣到各地，也可以訓練我們的運算思維，這些對我們新聞系會提升很大的幫助。\r\n",
        "\r\n",
        "，\r\n",
        "\r\n",
        "\r\n",
        "\r\n"
      ]
    },
    {
      "cell_type": "code",
      "metadata": {
        "id": "EhMfST8Pg6A0"
      },
      "source": [
        ""
      ],
      "execution_count": null,
      "outputs": []
    }
  ]
}