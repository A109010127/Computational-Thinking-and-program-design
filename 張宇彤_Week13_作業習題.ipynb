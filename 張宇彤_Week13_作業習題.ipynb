{
  "nbformat": 4,
  "nbformat_minor": 0,
  "metadata": {
    "kernelspec": {
      "display_name": "Python 3",
      "language": "python",
      "name": "python3"
    },
    "language_info": {
      "codemirror_mode": {
        "name": "ipython",
        "version": 3
      },
      "file_extension": ".py",
      "mimetype": "text/x-python",
      "name": "python",
      "nbconvert_exporter": "python",
      "pygments_lexer": "ipython3",
      "version": "3.8.5"
    },
    "colab": {
      "name": "張宇彤- Week13 - 作業習題.ipynb",
      "provenance": [],
      "include_colab_link": true
    }
  },
  "cells": [
    {
      "cell_type": "markdown",
      "metadata": {
        "id": "view-in-github",
        "colab_type": "text"
      },
      "source": [
        "<a href=\"https://colab.research.google.com/github/A109010127/Computational-Thinking-and-program-design/blob/main/%E5%BC%B5%E5%AE%87%E5%BD%A4_Week13_%E4%BD%9C%E6%A5%AD%E7%BF%92%E9%A1%8C.ipynb\" target=\"_parent\"><img src=\"https://colab.research.google.com/assets/colab-badge.svg\" alt=\"Open In Colab\"/></a>"
      ]
    },
    {
      "cell_type": "markdown",
      "metadata": {
        "id": "EXz0HNVOw4l3"
      },
      "source": [
        "**隨堂練習1： BMI 計算**\n",
        "\n",
        "請寫一個程式讓使用者輸入身高與體重，顯示BMI 值與肥胖程度。 BMI 等於體重（KG）除以身高（M）的平方，而BMI 與肥胖分類標準如下：\n",
        "\n",
        "若BMI 值小於18，則顯示「體重過輕」，否則若BMI 值小於24，則顯示「體重正常」，若BMI 值小於27，則顯示「體重過重」，否則顯示「體重肥胖」。"
      ]
    },
    {
      "cell_type": "code",
      "metadata": {
        "colab": {
          "base_uri": "https://localhost:8080/"
        },
        "id": "zYGMj7Whw4mD",
        "outputId": "61609fb7-a811-4d34-9148-f8b50340d5c1"
      },
      "source": [
        "##輸入身高體重資訊，計算BMI\n",
        "w = float(input('請輸入體重(KG)?'))\n",
        "h = float(input('請輸入身高(M)?'))\n",
        "bmi = w/(h*h)\n",
        "print('BMI為', bmi)\n",
        "if bmi < 18:\n",
        "    print('體重過輕')\n",
        "elif bmi < 24:\n",
        "    print('體重正常')\n",
        "elif bmi < 27:\n",
        "    print('體重過重')\n",
        "else:\n",
        "    print('體重肥胖')"
      ],
      "execution_count": null,
      "outputs": [
        {
          "output_type": "stream",
          "text": [
            "請輸入體重(KG)?46\n",
            "請輸入身高(M)?1.56\n",
            "BMI為 18.902038132807363\n",
            "體重正常\n"
          ],
          "name": "stdout"
        }
      ]
    },
    {
      "cell_type": "markdown",
      "metadata": {
        "id": "OP1gURQIw4mF"
      },
      "source": [
        "**隨堂練習2： 三一律(單向選擇、雙向與巢狀選擇、多向選擇)**\n",
        "\n",
        "請輸入一個數，然後判斷這個數是正數、是負數或者是零。"
      ]
    },
    {
      "cell_type": "code",
      "metadata": {
        "colab": {
          "base_uri": "https://localhost:8080/"
        },
        "id": "s7BmotGzw4mH",
        "outputId": "4acac8b4-491f-4cdd-8753-e0bf19c50316"
      },
      "source": [
        "##方法(一):單向選擇\n",
        "num = int(input(\"Pick a number: \"))\n",
        "if num > 0:\n",
        "    print(\"Your number is positive.\")\n",
        "if num < 0:\n",
        "   print(\"Ypur number is negative.\")\n",
        "if num == 0:\n",
        "    print(\"Your number is zero.\")\n",
        "print(\"Finished\")\n",
        "\n",
        "##方法(二)雙向選擇+巢狀選擇\n",
        "num = int(input(\"Pick a number: \"))\n",
        "if num > 0:\n",
        "    print(\"Your number is positive.\")\n",
        "else:\n",
        "    if num < 0:\n",
        "        print(\"Your number is negative.\")\n",
        "    else:\n",
        "        print(\"Your number is zero.\")\n",
        "print(\"Finished\")\n",
        "\n",
        "##方法(三)多項選擇\n",
        "num = int(input(\"Pick a number: \"))\n",
        "if num > 0:\n",
        "    print(\"Your number is positive.\")\n",
        "elif num < 0:\n",
        "    print(\"Your number is negative.\")\n",
        "else:\n",
        "    print(\"Your number is zero.\")\n",
        "print(\"Finished\")\n"
      ],
      "execution_count": null,
      "outputs": [
        {
          "output_type": "stream",
          "text": [
            "Pick a number: 2\n",
            "Your number is positive.\n",
            "Finished\n",
            "Pick a number: 5\n",
            "Your number is positive.\n",
            "Finished\n",
            "Pick a number: 7\n",
            "Your number is positive.\n",
            "Finished\n"
          ],
          "name": "stdout"
        }
      ]
    },
    {
      "cell_type": "markdown",
      "metadata": {
        "id": "g4CA7WsUw4mI"
      },
      "source": [
        "**練習5   體溫與發燒**\n",
        "\n",
        "設計程式根據體溫判斷是否發燒，由使用者輸入體溫，程式判斷是否發燒，假設體溫小於36度，顯示「體溫過低」，體溫大於等於36度小於38度，顯示「體溫正常」，否則若體溫大於等於38度小於39度，顯示「體溫有點燒」，否則體溫大於等於39度，顯示「體溫很燒」。\n",
        "\n",
        "輸入體溫「36.5」，輸出為「體溫正常」。\n",
        "\n",
        "～程式執行結果如下。\n",
        "\n",
        "請輸入體溫？36.5\n",
        "\n",
        "體溫正常"
      ]
    },
    {
      "cell_type": "code",
      "metadata": {
        "id": "qFVDQfSQw4mK",
        "colab": {
          "base_uri": "https://localhost:8080/"
        },
        "outputId": "b7cec3bc-0be1-457c-a12d-cef38b39fa21"
      },
      "source": [
        "num =float(input())\n",
        "if num < 36:\n",
        "    print('體溫過低')\n",
        "elif num < 38:\n",
        "    print('體溫正常')\n",
        "elif num < 39:\n",
        "    print('體溫有點燒')\n",
        "else:\n",
        "    print('體溫很燒')"
      ],
      "execution_count": 2,
      "outputs": [
        {
          "output_type": "stream",
          "text": [
            "36.5\n",
            "體溫正常\n"
          ],
          "name": "stdout"
        }
      ]
    },
    {
      "cell_type": "markdown",
      "metadata": {
        "id": "F_FHqbJKw4mL"
      },
      "source": [
        "**練習6  閏年判斷**\n",
        "\n",
        "設計程式允許輸入西元幾年，請求出該年是否是閏年，閏年表示該年多一天，若為4的倍數稱做閏年，但若為100的倍數就不為閏年，且若為400倍數又是閏年。(四年一潤、百年不潤、四百年再潤)\n",
        "\n",
        "輸入年份「2012」，輸出為「2012是閏年」。\n",
        "\n",
        "～程式執行結果如下。\n",
        "\n",
        "請輸入年份？2012\n",
        "\n",
        "2012 是閏年"
      ]
    },
    {
      "cell_type": "code",
      "metadata": {
        "id": "Q0-AQIB9w4mN",
        "colab": {
          "base_uri": "https://localhost:8080/"
        },
        "outputId": "05a94187-9fd4-4cc2-e842-d31d927f1288"
      },
      "source": [
        "year = int(input(\"輸入年份: \"))\n",
        "if year % 400 == 0:\n",
        "  print(year, \"是閏年\")\n",
        "elif year % 100 == 0:\n",
        "  print(year, \"不是閏年\")\n",
        "elif year % 4 == 0:\n",
        "  print(year, \"是閏年\") \n",
        "else:\n",
        "  print(year, \"不是閏年\")"
      ],
      "execution_count": 4,
      "outputs": [
        {
          "output_type": "stream",
          "text": [
            "輸入年份: 2012\n",
            "2012 是閏年\n"
          ],
          "name": "stdout"
        }
      ]
    },
    {
      "cell_type": "markdown",
      "metadata": {
        "id": "nSOidRKhw4mO"
      },
      "source": [
        "**練習12：計程車計費**\n",
        "\n",
        "某城市計程車計費3公里以內6元，超過3公里不足10公里、每公里1.8元，超過10公里則超過部分加收50%。此外停車等候每3分鐘收1元，請用Python寫出車費是多少。"
      ]
    },
    {
      "cell_type": "code",
      "metadata": {
        "id": "y86IKPeEw4mP",
        "colab": {
          "base_uri": "https://localhost:8080/"
        },
        "outputId": "b233d2b8-acb4-47b1-e5f8-a52da2836cdb"
      },
      "source": [
        "km = float(input())\n",
        "time = int(input())\n",
        "if km <= 3:\n",
        "  price = 6\n",
        "elif km < 10:\n",
        "  price = 6 + (km-3) * 1.8\n",
        "else:\n",
        "  price = 10*1.8+(km-10)*2.7\n",
        "price2 = int(time / 3)\n",
        "ans = price + price2\n",
        "print(ans)\n"
      ],
      "execution_count": 6,
      "outputs": [
        {
          "output_type": "stream",
          "text": [
            "32\n",
            "5\n",
            "78.4\n"
          ],
          "name": "stdout"
        }
      ]
    }
  ]
}